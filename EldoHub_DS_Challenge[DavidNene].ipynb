{
  "nbformat": 4,
  "nbformat_minor": 0,
  "metadata": {
    "colab": {
      "name": "EldoHub_DS_Challenge.ipynb",
      "provenance": [],
      "authorship_tag": "ABX9TyMJG/3YnwM6Rq12puwGSVNG",
      "include_colab_link": true
    },
    "kernelspec": {
      "name": "python3",
      "display_name": "Python 3"
    },
    "language_info": {
      "name": "python"
    }
  },
  "cells": [
    {
      "cell_type": "markdown",
      "metadata": {
        "id": "view-in-github",
        "colab_type": "text"
      },
      "source": [
        "<a href=\"https://colab.research.google.com/github/davidnene/Eldo_Hub_DS_Challenge/blob/main/EldoHub_DS_Challenge%5BDavidNene%5D.ipynb\" target=\"_parent\"><img src=\"https://colab.research.google.com/assets/colab-badge.svg\" alt=\"Open In Colab\"/></a>"
      ]
    },
    {
      "cell_type": "markdown",
      "metadata": {
        "id": "DwcKLbqHkVh7"
      },
      "source": [
        "**Data Science/ Data Analytics challenge**\n",
        "\n",
        "Consider a dataset providing information on the functionality of infrastructure resources,\n",
        "for each water point it includes the name of the village it is in and its functional state.\n",
        "Implement a data processing module in python which takes a dataset URL as input and\n",
        "returns:\n",
        "\n",
        "● The number of water points that are functional,\n",
        "\n",
        "● The number of water points per community,\n",
        "\n",
        "● The rank for each community by the percentage of broken water points.\n",
        "\n",
        "data source: \n",
        "https://raw.githubusercontent.com/onaio/ona-tech/master/data/water_points.json\n"
      ]
    },
    {
      "cell_type": "code",
      "metadata": {
        "id": "dHao_NYEjVGz"
      },
      "source": [
        "#install BeautifulSoup library\n",
        "#pip install bs4\n",
        "\n",
        "#define an automation function\n",
        "def auto_analyzer(url):\n",
        "  #import prerequisites\n",
        "  import requests\n",
        "  from bs4 import BeautifulSoup\n",
        "  import pandas as pd\n",
        "  \n",
        "  #store the required url in a variable\n",
        "  URL = \"https://raw.githubusercontent.com/onaio/ona-tech/master/data/water_points.json\"\n",
        "  r=requests.get(URL)\n",
        "  \n",
        "  #parse url\n",
        "  soup= BeautifulSoup(r.content,'lxml')\n",
        "  raw=soup.findAll('p')[0].text\n",
        "  \n",
        "  #extract and read the json file\n",
        "  page_d=pd.read_json(raw.split(\"window.pageData=\")[0],orient='records') \n",
        "  page = page_d[['communities_villages','water_functioning']].copy()\n",
        "  \n",
        "  #start analysis\n",
        "  #functional water points\n",
        "  number_functional=page['water_functioning'].value_counts()\n",
        "\n",
        "  #water points per community\n",
        "  number_water_points=pd.DataFrame(page['water_functioning'].groupby(page['communities_villages']).count())\n",
        "  no_of_waterpoints_per_community = number_water_points.sort_values(by='water_functioning', ascending=False)\n",
        "\n",
        "  #The rank for each community by the percentage of broken water points.\n",
        "  not_functioning = page[page['water_functioning']=='no']\n",
        "  not_functioning['comm_rank_in_%'] = not_functioning['communities_villages'].rank(pct=True)\n",
        "  community_rank = not_functioning[['communities_villages','comm_rank_in_%']].copy()\n",
        "  \n",
        "  #excecute\n",
        "  print('Functional water points: Yes')\n",
        "  print(number_functional)\n",
        "  print(' ')\n",
        "\n",
        "  print('Water points per community')\n",
        "  print(no_of_waterpoints_per_community)\n",
        "  print(' ')\n",
        "\n",
        "  print('The rank for each community by the percentage of broken water points')\n",
        "  print(community_rank)"
      ],
      "execution_count": 7,
      "outputs": []
    },
    {
      "cell_type": "code",
      "metadata": {
        "colab": {
          "base_uri": "https://localhost:8080/"
        },
        "id": "jiEaEg6Xj4-e",
        "outputId": "1d6ed218-a251-4da5-df68-c8859b6d9a5d"
      },
      "source": [
        "#test and evaluate the function\n",
        "auto_analyzer(\"https://raw.githubusercontent.com/onaio/ona-tech/master/data/water_points.json\")"
      ],
      "execution_count": 8,
      "outputs": [
        {
          "output_type": "stream",
          "name": "stdout",
          "text": [
            "Functional water points: Yes\n",
            "yes      623\n",
            "no        87\n",
            "na_dn      2\n",
            "Name: water_functioning, dtype: int64\n",
            " \n",
            "Water points per community\n",
            "                      water_functioning\n",
            "communities_villages                   \n",
            "Kpatarigu                            51\n",
            "Jagsa                                38\n",
            "Nayoku                               35\n",
            "Guuta                                32\n",
            "Nabulugu                             31\n",
            "...                                 ...\n",
            "Suik                                  1\n",
            "Jiniensa                              1\n",
            "Gumaryili                             1\n",
            "Kalaasa                               1\n",
            "Garigu                                1\n",
            "\n",
            "[65 rows x 1 columns]\n",
            " \n",
            "The rank for each community by the percentage of broken water points\n",
            "    communities_villages  comm_rank_in_%\n",
            "8              Selinvoya        0.735632\n",
            "15              Nabulugu        0.591954\n",
            "31              Nabulugu        0.591954\n",
            "34              Nabulugu        0.591954\n",
            "37              Nabulugu        0.591954\n",
            "..                   ...             ...\n",
            "627                Jagsa        0.281609\n",
            "633                Jagsa        0.281609\n",
            "646                Jagsa        0.281609\n",
            "648                Jagsa        0.281609\n",
            "649                Jagsa        0.281609\n",
            "\n",
            "[87 rows x 2 columns]\n"
          ]
        },
        {
          "output_type": "stream",
          "name": "stderr",
          "text": [
            "/usr/local/lib/python3.7/dist-packages/ipykernel_launcher.py:33: SettingWithCopyWarning: \n",
            "A value is trying to be set on a copy of a slice from a DataFrame.\n",
            "Try using .loc[row_indexer,col_indexer] = value instead\n",
            "\n",
            "See the caveats in the documentation: https://pandas.pydata.org/pandas-docs/stable/user_guide/indexing.html#returning-a-view-versus-a-copy\n"
          ]
        }
      ]
    }
  ]
}